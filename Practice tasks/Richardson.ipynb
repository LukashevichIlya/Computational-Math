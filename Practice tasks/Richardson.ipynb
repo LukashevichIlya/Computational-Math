{
 "cells": [
  {
   "cell_type": "markdown",
   "metadata": {},
   "source": [
    "# Итерационные методы решения линейных систем"
   ]
  },
  {
   "cell_type": "markdown",
   "metadata": {},
   "source": [
    "## Метод простой итерации"
   ]
  },
  {
   "cell_type": "markdown",
   "metadata": {},
   "source": [
    "Напишите программу для решения линейной системы с действительной матрицей $$ Ax = b, A = A^{T} > 0 $$ итерационным методом Ричардсона (методом релакции)."
   ]
  },
  {
   "cell_type": "markdown",
   "metadata": {},
   "source": [
    "Требования к программе:\n",
    "1. Программа должна содержать функцию, которая принимает на вход матрицу A, правую часть b, итерационный параметр τ максимальное число итераций и параметр tol, задающий критерий остановки для нормы невязки. Функция должна возвращать приближенное решение y, и одномерный массив со значениям нормы невязки на каждой итерации. Остановка должна происходить при норме невязки меньше заданного порога tol.\n",
    "2. Программа должна создавать матрицу $A = A^{T}$ произвольного размера n, правую часть b.\n",
    "3. Программа должна вычислять оценку собственных чисел с помощью кругов Гершгорина, и вычислять точные собственные числа с помощью готовой функции (например, numpy.linalg.eigvals).\n",
    "4. Программа должна вычислять приближенное решение с помощью реализованной функции при 3-х различных значениях итерационного параметра:"
   ]
  },
  {
   "cell_type": "markdown",
   "metadata": {},
   "source": [
    "(a) Произвольное значения из допустимой области"
   ]
  },
  {
   "cell_type": "markdown",
   "metadata": {},
   "source": [
    "(b) Оптимальное значение, вычисленное по оценкам с.ч."
   ]
  },
  {
   "cell_type": "markdown",
   "metadata": {},
   "source": [
    "(c) Оптимальное значение, вычисленное по точным с.ч."
   ]
  },
  {
   "cell_type": "markdown",
   "metadata": {},
   "source": [
    "5. Программа должна выводить норму разницы между 3-мя приближенными решениями и точным решением, вычисленным с помощью готовой функции, например, numpy.linalg.solve.\n",
    "6. Программа должна строить графики зависимости логарифма нормы невязки от номера итерации для 3-х значений итерационного параметра (на одном рисунке).\n",
    "7. Автор программы должен уметь объяснить полученные результаты на основе изученной теории."
   ]
  },
  {
   "cell_type": "code",
   "execution_count": 29,
   "metadata": {},
   "outputs": [],
   "source": [
    "import numpy as np\n",
    "import matplotlib.pyplot as plt\n",
    "from random import uniform"
   ]
  },
  {
   "cell_type": "code",
   "execution_count": 30,
   "metadata": {},
   "outputs": [],
   "source": [
    "def solve_linear_system(A, b, tau, max_iter, tol):\n",
    "    size = A.shape[0]\n",
    "    I = np.eye(size)\n",
    "    new_b = tau * b\n",
    "    S = I - tau * A\n",
    "    x_k = np.zeros(size)\n",
    "    x_kp1 = np.zeros(size)\n",
    "    it = 0\n",
    "    err = np.array([])\n",
    "    while (np.linalg.norm(A.dot(x_kp1) - b) > tol and it < max_iter):\n",
    "        it += 1\n",
    "        x_k[:] = x_kp1[:]\n",
    "        for i in range(0, size):\n",
    "            x_kp1[i] = new_b[i]\n",
    "            for j in range(0, size):\n",
    "                x_kp1[i] = x_kp1[i] + S[i, j] * x_k[j]\n",
    "        err = np.append(err, np.linalg.norm(A.dot(x_kp1) - b))\n",
    "    print it\n",
    "    return x_kp1, err"
   ]
  },
  {
   "cell_type": "markdown",
   "metadata": {},
   "source": [
    "Оценка минимального значения собственного числа с помощью кругов Гершгорина получается не совсем верной, так как могут получаться отрицательные значения для собственных чисел, что невозможно для симметричной положительно определенной матрицы. Поэтому могут получаться такие значения параметра tau, что метод Ричардсона не будет сходиться. Следовательно, я ограничил минимальное значение собственного числа нулем. Таким образом, в функции ниже я возвращаю значение $\\tau$, равное $2 / \\lambda_{max}$, где $\\lambda_{max}$ - оцененное сверху максимальное значение собственного числа матрицы A. Оно точно не меньше, чем реальное значение максимального собтвенного числа, поэтому возвращаемое значение параметра $\\tau$ попадает в допустимый диапазон и метод сходится. "
   ]
  },
  {
   "cell_type": "code",
   "execution_count": 31,
   "metadata": {},
   "outputs": [],
   "source": [
    "#function that return value of tau using gershgorin circles\n",
    "def gershgorin_circles_opt_value(A):\n",
    "    #array of sums of absolute values of elements in lines except diagonal elements \n",
    "    r = np.array([])\n",
    "    for i in range(0, size):\n",
    "        r_i = 0\n",
    "        for j in range(0, size):\n",
    "            if (i != j):\n",
    "                r_i += np.abs(A[i, j])\n",
    "        r = np.append(r, r_i)\n",
    "        \n",
    "    #array of sums of absolute values of elements in columns except diagonal elements\n",
    "    c = np.array([])\n",
    "    for j in range(0, size):\n",
    "        c_j = 0\n",
    "        for i in range(0, size):\n",
    "            if (i != j):\n",
    "                c_j += np.abs(A[i, j])\n",
    "        c = np.append(c, c_j)\n",
    "\n",
    "    #make array of possible eigenvalues (range of eigenvalues)\n",
    "    eigenvalues = np.array([])\n",
    "    for i in range(0, size):\n",
    "        eigenvalues = np.append(eigenvalues, A[i, i] - c[i])\n",
    "        eigenvalues = np.append(eigenvalues, A[i, i] + c[i])\n",
    "        eigenvalues = np.append(eigenvalues, A[i, i] - r[i])\n",
    "        eigenvalues = np.append(eigenvalues, A[i, i] + r[i])\n",
    "    \n",
    "    #return optimal value\n",
    "    return 2. / np.max(eigenvalues)"
   ]
  },
  {
   "cell_type": "code",
   "execution_count": 32,
   "metadata": {},
   "outputs": [
    {
     "name": "stdout",
     "output_type": "stream",
     "text": [
      "Optimal value of tau using standart function np.linalg.eigvals: 0.271682917374\n",
      "Optimal value of tau using Gershgorin circles: 0.268857830136\n",
      "Random value of tau in allowable interval: 0.0453021390926\n",
      "Python solution using np.linalg.solve: [-0.11050596  0.16625247  0.33131419 -0.05295607]\n",
      "29\n",
      "Solution using Richardson method with optimal value of tau (standart function): [-0.11050575  0.16626071  0.33130974 -0.05293726]\n",
      "27\n",
      "Solution using Richardson method with optimal value of tau (Gershgorin circles): [-0.11051276  0.16626032  0.33129971 -0.05292381]\n",
      "161\n",
      "Solution using Richardson method with random value of tau (random tau in interval): [-0.11053906  0.16624901  0.33126298 -0.05288341]\n",
      "Euclidean norm of the difference of two solutions (x_my - x_py): 2.10162960116e-05\n",
      "Euclidean norm of the difference of two solutions (x_my_circles - x_py): 3.68601092854e-05\n",
      "Euclidean norm of the difference of two solutions (x_my_rand - x_py): 9.49203486667e-05\n"
     ]
    },
    {
     "data": {
      "text/plain": [
       "<matplotlib.legend.Legend at 0x7fed8315fad0>"
      ]
     },
     "execution_count": 32,
     "metadata": {},
     "output_type": "execute_result"
    },
    {
     "data": {
      "image/png": "[encoded data removed]",
      "text/plain": [
       "<Figure size 720x360 with 1 Axes>"
      ]
     },
     "metadata": {
      "needs_background": "light"
     },
     "output_type": "display_data"
    }
   ],
   "source": [
    "#initialize matrix A, vector b, tolerance level = tol and maximum number of iterations\n",
    "size = 4\n",
    "B = np.random.rand(size, size)\n",
    "C = np.copy(B)\n",
    "A = np.dot(C.T, B) + np.eye(size)\n",
    "tol = 1e-4\n",
    "max_iter = 1e5\n",
    "b = np.array([np.random.rand() for i in range(size)])\n",
    "\n",
    "#find optimal value of tau parameter using standart function np.linalg.eigvals\n",
    "eigvals = np.linalg.eigvals(A)\n",
    "tau_opt = 2. / (np.max(eigvals) + np.min(eigvals))\n",
    "print(\"Optimal value of tau using standart function np.linalg.eigvals: {}\".format(tau_opt))\n",
    "\n",
    "#find optimal value of tau parameter using Gershgorin circles\n",
    "tau_opt_circles = gershgorin_circles_opt_value(A)\n",
    "print(\"Optimal value of tau using Gershgorin circles: {}\".format(tau_opt_circles))\n",
    "\n",
    "#random value of tau parameter in interval (0, 2 / lambda_max)\n",
    "tau_rand = uniform(0, 2 / np.max(eigvals))\n",
    "print(\"Random value of tau in allowable interval: {}\".format(tau_rand))\n",
    "\n",
    "#solution using standart function np.linalg.solve\n",
    "x_py = np.linalg.solve(A, b)\n",
    "print(\"Python solution using np.linalg.solve: {}\".format(x_py))\n",
    "\n",
    "#solution using Richardson method with tau_opt\n",
    "x_my, err_my = solve_linear_system(A, b, tau_opt, max_iter, tol)\n",
    "print(\"Solution using Richardson method with optimal value of tau (standart function): {}\".format(x_my))\n",
    "\n",
    "#solution using Richardson method with tau_opt_circles\n",
    "x_my_circles, err_my_circles = solve_linear_system(A, b, tau_opt_circles, max_iter, tol)\n",
    "print(\"Solution using Richardson method with optimal value of tau (Gershgorin circles): {}\".format(x_my_circles))\n",
    "\n",
    "#solution using Richardson method with tau_rand\n",
    "x_my_rand, err_my_rand = solve_linear_system(A, b, tau_rand, max_iter, tol)\n",
    "print(\"Solution using Richardson method with random value of tau (random tau in interval): {}\".format(x_my_rand))\n",
    "\n",
    "print(\"Euclidean norm of the difference of two solutions (x_my - x_py): {}\"\n",
    "      .format(np.linalg.norm(x_my - x_py)))\n",
    "print(\"Euclidean norm of the difference of two solutions (x_my_circles - x_py): {}\"\n",
    "      .format(np.linalg.norm(x_my_circles - x_py)))\n",
    "print(\"Euclidean norm of the difference of two solutions (x_my_rand - x_py): {}\"\n",
    "      .format(np.linalg.norm(x_my_rand - x_py)))\n",
    "\n",
    "fig, ax = plt.subplots(figsize = (10, 5))\n",
    "ax.semilogy(err_my, label = 'tau_opt')\n",
    "ax.semilogy(err_my_circles, label = 'tau_opt_circles')\n",
    "ax.semilogy(err_my_rand, label = 'tau_rand')\n",
    "ax.grid(True)\n",
    "ax.legend(loc = 'best')"
   ]
  },
  {
   "cell_type": "code",
   "execution_count": null,
   "metadata": {},
   "outputs": [],
   "source": []
  }
 ],
 "metadata": {
  "kernelspec": {
   "display_name": "Python 2",
   "language": "python",
   "name": "python2"
  },
  "language_info": {
   "codemirror_mode": {
    "name": "ipython",
    "version": 2
   },
   "file_extension": ".py",
   "mimetype": "text/x-python",
   "name": "python",
   "nbconvert_exporter": "python",
   "pygments_lexer": "ipython2",
   "version": "2.7.16"
  }
 },
 "nbformat": 4,
 "nbformat_minor": 2
}
