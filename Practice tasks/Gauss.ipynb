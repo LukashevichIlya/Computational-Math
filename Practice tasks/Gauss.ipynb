{
 "cells": [
  {
   "cell_type": "markdown",
   "metadata": {},
   "source": [
    "# Прямые методы решения линейных систем"
   ]
  },
  {
   "cell_type": "markdown",
   "metadata": {},
   "source": [
    "## Метод Гаусса с выбором главного элемента по столбцу"
   ]
  },
  {
   "cell_type": "markdown",
   "metadata": {},
   "source": [
    "При написании программы нельзя использовать готовые функции для матричного умножения и обращения матриц кроме случаев,когда это явно описано."
   ]
  },
  {
   "cell_type": "markdown",
   "metadata": {},
   "source": [
    "Напишите программу для решения линейной системы $$Ax = b$$ методом Гаусса с выбором главного элемента по столбцу. Требования к программе:\n",
    "1. Программа должна содержать функцию, принимающую на вход матрицу $A$ и правую часть $b$.\n",
    "2. Внутри функции нужно сначала вычислить матрицы $L$, $U$ и матрицу перестановки $P$, соответствующую выбору главного элемента по столбцу (т.е. перестановке строк): $PA = LU$.\n",
    "3. После этого в функции нужно решить системы с треугольными матрицами с помощью прямой и обратной подстановок.\n",
    "4. Функция должна возвращать матрицы и вектор решения: $L, U, P, x$.\n",
    "5. Программа должна вызывать реализованную фукнцию для какой-то матрицы и правой части и выводить норму разницы между полученным решением, и решением, которое возвращает готовая библиотечная функция, например, $numpy.linalg.solve$."
   ]
  },
  {
   "cell_type": "code",
   "execution_count": 1,
   "metadata": {},
   "outputs": [],
   "source": [
    "import numpy as np\n",
    "from scipy import linalg"
   ]
  },
  {
   "cell_type": "code",
   "execution_count": 2,
   "metadata": {},
   "outputs": [],
   "source": [
    "#function to solve system with triangle matrix T, vector b, flag: 'l' - lower, 'u' - upper triangle matrix\n",
    "def solve_triang(T, b, flag):\n",
    "    n = b.shape[0] # size of system\n",
    "    solution = np.zeros(n)\n",
    "    \n",
    "    if (flag == 'l'):\n",
    "        for k in range(n):\n",
    "            solution[k] = b[k]\n",
    "            for i in range(k):\n",
    "                solution[k] -= solution[i] * T[k][i]\n",
    "            solution[k] /= T[k][k]\n",
    "    else:\n",
    "        for k in range(n - 1, -1, -1):\n",
    "            solution[k] = b[k]\n",
    "            for i in range(n - 1, k, -1):\n",
    "                solution[k] -= solution[i] * T[k][i]\n",
    "            solution[k] /= T[k][k]\n",
    "        \n",
    "    return solution"
   ]
  },
  {
   "cell_type": "code",
   "execution_count": 3,
   "metadata": {},
   "outputs": [],
   "source": [
    "#function solving linear system Ax = b using LU decomposition with pivoting\n",
    "def solve_linear_system(A, b):\n",
    "    #find decomposition of matrix A in a form PA = LU\n",
    "    size = A.shape[0]\n",
    "    U = np.copy(A)\n",
    "    L = np.eye(size)\n",
    "    P = np.eye(size)\n",
    "    for k in range(size - 1):\n",
    "        index = np.argmax(np.abs(U[k:size, k])) + k\n",
    "        \n",
    "        #swap lines in U\n",
    "        tmp = np.copy(U[k, k:size])\n",
    "        U[k, k:size] = np.copy(U[index, k:size])\n",
    "        U[index, k:size] = np.copy(tmp)\n",
    "        \n",
    "        #swap lines in L\n",
    "        tmp = np.copy(L[k, 0:k])\n",
    "        L[k, 0:k] = np.copy(L[index, 0:k])\n",
    "        L[index, 0:k] = np.copy(tmp)\n",
    "        \n",
    "        #swap lines in P\n",
    "        tmp = np.copy(P[k, :])\n",
    "        P[k, :] = np.copy(P[index, :])\n",
    "        P[index, :] = np.copy(tmp)\n",
    "        \n",
    "        for j in range(k + 1, size):\n",
    "            L[j, k] = U[j, k] / U[k, k]\n",
    "            U[j, k:size] = U[j, k:size] - L[j, k] * U[k, k:size]\n",
    "    \n",
    "    #we have PA = LU, the system is Ax = b <=> system LUx = Pb\n",
    "    #let Ux = y, Pb = b_new => let's solve Ly = b_new, than Ux = y\n",
    "    \n",
    "    #find b_new\n",
    "    b_new = np.zeros(size)\n",
    "    for i in range(size):\n",
    "        for j in range(size):\n",
    "            if (P[i, j] == 1):\n",
    "                b_new[i] = b[j]\n",
    "                \n",
    "    #solving Ly = b_new\n",
    "    y = solve_triang(L, b_new, 'l')\n",
    "    \n",
    "    #solving Ux = y\n",
    "    x = solve_triang(U, y, 'u')\n",
    "    \n",
    "    return L, U, P, x"
   ]
  },
  {
   "cell_type": "code",
   "execution_count": 4,
   "metadata": {},
   "outputs": [
    {
     "name": "stdout",
     "output_type": "stream",
     "text": [
      "Solution with numpy.linalg.solve: [-35.54604675   2.71370168  27.01263358 -16.35184099]\n",
      "Solution with implemented function using LU decomposition: [-35.54604675   2.71370168  27.01263358 -16.35184099]\n",
      "Euclidean norm of the difference of two solutions: 3.34080552873e-13\n"
     ]
    }
   ],
   "source": [
    "#creating a random matrix and random vector\n",
    "size = 4\n",
    "A = np.random.rand(size, size)\n",
    "b = np.array([np.random.rand() for i in range(size)])\n",
    "\n",
    "#solving system Ax = b with implemented function and with numpy.linalg.solve\n",
    "L_my, U_my, P_my, x_my = solve_linear_system(A, b)\n",
    "x_numpy = np.linalg.solve(A, b)\n",
    "\n",
    "print(\"Solution with numpy.linalg.solve: {}\".format(x_numpy))\n",
    "print(\"Solution with implemented function using LU decomposition: {}\".format(x_my))\n",
    "print(\"Euclidean norm of the difference of two solutions: {}\".format(np.linalg.norm(x_my - x_numpy, 2)))"
   ]
  }
 ],
 "metadata": {
  "kernelspec": {
   "display_name": "Python 2",
   "language": "python",
   "name": "python2"
  },
  "language_info": {
   "codemirror_mode": {
    "name": "ipython",
    "version": 2
   },
   "file_extension": ".py",
   "mimetype": "text/x-python",
   "name": "python",
   "nbconvert_exporter": "python",
   "pygments_lexer": "ipython2",
   "version": "2.7.16"
  }
 },
 "nbformat": 4,
 "nbformat_minor": 2
}
